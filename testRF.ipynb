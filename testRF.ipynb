{
 "metadata": {
  "kernelspec": {
   "display_name": "Python 3",
   "language": "python",
   "name": "python3"
  },
  "language_info": {
   "codemirror_mode": {
    "name": "ipython",
    "version": 3
   },
   "file_extension": ".py",
   "mimetype": "text/x-python",
   "name": "python",
   "nbconvert_exporter": "python",
   "pygments_lexer": "ipython3",
   "version": "3.7.6"
  },
  "name": ""
 },
 "nbformat": 3,
 "nbformat_minor": 0,
 "worksheets": [
  {
   "cells": [
    {
     "cell_type": "code",
     "collapsed": false,
     "input": [
      "import numpy as np\n",
      "import h5py\n",
      "import os\n",
      "from sklearn.ensemble import RandomForestClassifier\n",
      "from sklearn.metrics import recall_score\n",
      "import pickle"
     ],
     "language": "python",
     "metadata": {},
     "outputs": [],
     "prompt_number": 1
    },
    {
     "cell_type": "code",
     "collapsed": false,
     "input": [
      "MODEL_PATH = 'data/fitted_models/rf_model_entire_set_depth_10.sav'\n",
      "FILE_NAME = 'test_files.txt'\n",
      "FILE_ROOT_PATH = ''\n"
     ],
     "language": "python",
     "metadata": {},
     "outputs": [],
     "prompt_number": 2
    },
    {
     "cell_type": "code",
     "collapsed": false,
     "input": [
      "files = []\n",
      "with open(FILE_NAME, 'r') as f:\n",
      "    for line in f.readlines():\n",
      "        line = line.strip('\\n')\n",
      "        files.append(FILE_ROOT_PATH + line)\n",
      "    \n",
      "files.remove('data/s20190980450.h5')\n",
      "    \n",
      "n = 401401\n",
      "test_data = np.empty((n*len(files),4), float)\n",
      "test_label = np.empty((n*len(files)), int)\n",
      "\n",
      "counter = 0\n",
      "for file in files:\n",
      "    with h5py.File(file, 'r') as f:\n",
      "        index = f['label'][()]\n",
      "        data = f['data'][()]\n",
      "        test_data[counter*n:(counter+1)*n] = data\n",
      "        test_label[counter*n:(counter+1)*n] = index\n",
      "        \n",
      "    counter += 1\n",
      "    print(str(int((counter/len(files))*100)) + '%', end='\\r', flush = True)\n",
      "        \n"
     ],
     "language": "python",
     "metadata": {},
     "outputs": [
      {
       "output_type": "stream",
       "stream": "stdout",
       "text": [
        "0%\r"
       ]
      },
      {
       "output_type": "stream",
       "stream": "stdout",
       "text": [
        "1%\r"
       ]
      },
      {
       "output_type": "stream",
       "stream": "stdout",
       "text": [
        "1%\r"
       ]
      },
      {
       "output_type": "stream",
       "stream": "stdout",
       "text": [
        "2%\r"
       ]
      },
      {
       "output_type": "stream",
       "stream": "stdout",
       "text": [
        "3%\r"
       ]
      },
      {
       "output_type": "stream",
       "stream": "stdout",
       "text": [
        "3%\r"
       ]
      },
      {
       "output_type": "stream",
       "stream": "stdout",
       "text": [
        "4%\r"
       ]
      },
      {
       "output_type": "stream",
       "stream": "stdout",
       "text": [
        "5%\r"
       ]
      },
      {
       "output_type": "stream",
       "stream": "stdout",
       "text": [
        "5%\r"
       ]
      },
      {
       "output_type": "stream",
       "stream": "stdout",
       "text": [
        "6%\r"
       ]
      },
      {
       "output_type": "stream",
       "stream": "stdout",
       "text": [
        "7%\r"
       ]
      },
      {
       "output_type": "stream",
       "stream": "stdout",
       "text": [
        "7%\r"
       ]
      },
      {
       "output_type": "stream",
       "stream": "stdout",
       "text": [
        "8%\r"
       ]
      },
      {
       "output_type": "stream",
       "stream": "stdout",
       "text": [
        "9%\r"
       ]
      },
      {
       "output_type": "stream",
       "stream": "stdout",
       "text": [
        "9%\r"
       ]
      },
      {
       "output_type": "stream",
       "stream": "stdout",
       "text": [
        "10%\r"
       ]
      },
      {
       "output_type": "stream",
       "stream": "stdout",
       "text": [
        "10%\r"
       ]
      },
      {
       "output_type": "stream",
       "stream": "stdout",
       "text": [
        "11%\r"
       ]
      },
      {
       "output_type": "stream",
       "stream": "stdout",
       "text": [
        "12%\r"
       ]
      },
      {
       "output_type": "stream",
       "stream": "stdout",
       "text": [
        "12%\r"
       ]
      },
      {
       "output_type": "stream",
       "stream": "stdout",
       "text": [
        "13%\r"
       ]
      },
      {
       "output_type": "stream",
       "stream": "stdout",
       "text": [
        "14%\r"
       ]
      },
      {
       "output_type": "stream",
       "stream": "stdout",
       "text": [
        "14%\r"
       ]
      },
      {
       "output_type": "stream",
       "stream": "stdout",
       "text": [
        "15%\r"
       ]
      },
      {
       "output_type": "stream",
       "stream": "stdout",
       "text": [
        "16%\r"
       ]
      },
      {
       "output_type": "stream",
       "stream": "stdout",
       "text": [
        "16%\r"
       ]
      },
      {
       "output_type": "stream",
       "stream": "stdout",
       "text": [
        "17%\r"
       ]
      },
      {
       "output_type": "stream",
       "stream": "stdout",
       "text": [
        "18%\r"
       ]
      },
      {
       "output_type": "stream",
       "stream": "stdout",
       "text": [
        "18%\r"
       ]
      },
      {
       "output_type": "stream",
       "stream": "stdout",
       "text": [
        "19%\r"
       ]
      },
      {
       "output_type": "stream",
       "stream": "stdout",
       "text": [
        "20%\r"
       ]
      },
      {
       "output_type": "stream",
       "stream": "stdout",
       "text": [
        "20%\r"
       ]
      },
      {
       "output_type": "stream",
       "stream": "stdout",
       "text": [
        "21%\r"
       ]
      },
      {
       "output_type": "stream",
       "stream": "stdout",
       "text": [
        "21%\r"
       ]
      },
      {
       "output_type": "stream",
       "stream": "stdout",
       "text": [
        "22%\r"
       ]
      },
      {
       "output_type": "stream",
       "stream": "stdout",
       "text": [
        "23%\r"
       ]
      },
      {
       "output_type": "stream",
       "stream": "stdout",
       "text": [
        "23%\r"
       ]
      },
      {
       "output_type": "stream",
       "stream": "stdout",
       "text": [
        "24%\r"
       ]
      },
      {
       "output_type": "stream",
       "stream": "stdout",
       "text": [
        "25%\r"
       ]
      },
      {
       "output_type": "stream",
       "stream": "stdout",
       "text": [
        "25%\r"
       ]
      },
      {
       "output_type": "stream",
       "stream": "stdout",
       "text": [
        "26%\r"
       ]
      },
      {
       "output_type": "stream",
       "stream": "stdout",
       "text": [
        "27%\r"
       ]
      },
      {
       "output_type": "stream",
       "stream": "stdout",
       "text": [
        "27%\r"
       ]
      },
      {
       "output_type": "stream",
       "stream": "stdout",
       "text": [
        "28%\r"
       ]
      },
      {
       "output_type": "stream",
       "stream": "stdout",
       "text": [
        "29%\r"
       ]
      },
      {
       "output_type": "stream",
       "stream": "stdout",
       "text": [
        "29%\r"
       ]
      },
      {
       "output_type": "stream",
       "stream": "stdout",
       "text": [
        "30%\r"
       ]
      },
      {
       "output_type": "stream",
       "stream": "stdout",
       "text": [
        "30%\r"
       ]
      },
      {
       "output_type": "stream",
       "stream": "stdout",
       "text": [
        "31%\r"
       ]
      },
      {
       "output_type": "stream",
       "stream": "stdout",
       "text": [
        "32%\r"
       ]
      },
      {
       "output_type": "stream",
       "stream": "stdout",
       "text": [
        "32%\r"
       ]
      },
      {
       "output_type": "stream",
       "stream": "stdout",
       "text": [
        "33%\r"
       ]
      },
      {
       "output_type": "stream",
       "stream": "stdout",
       "text": [
        "34%\r"
       ]
      },
      {
       "output_type": "stream",
       "stream": "stdout",
       "text": [
        "34%\r"
       ]
      },
      {
       "output_type": "stream",
       "stream": "stdout",
       "text": [
        "35%\r"
       ]
      },
      {
       "output_type": "stream",
       "stream": "stdout",
       "text": [
        "36%\r"
       ]
      },
      {
       "output_type": "stream",
       "stream": "stdout",
       "text": [
        "36%\r"
       ]
      },
      {
       "output_type": "stream",
       "stream": "stdout",
       "text": [
        "37%\r"
       ]
      },
      {
       "output_type": "stream",
       "stream": "stdout",
       "text": [
        "38%\r"
       ]
      },
      {
       "output_type": "stream",
       "stream": "stdout",
       "text": [
        "38%\r"
       ]
      },
      {
       "output_type": "stream",
       "stream": "stdout",
       "text": [
        "39%\r"
       ]
      },
      {
       "output_type": "stream",
       "stream": "stdout",
       "text": [
        "40%\r"
       ]
      },
      {
       "output_type": "stream",
       "stream": "stdout",
       "text": [
        "40%\r"
       ]
      },
      {
       "output_type": "stream",
       "stream": "stdout",
       "text": [
        "41%\r"
       ]
      },
      {
       "output_type": "stream",
       "stream": "stdout",
       "text": [
        "41%\r"
       ]
      },
      {
       "output_type": "stream",
       "stream": "stdout",
       "text": [
        "42%\r"
       ]
      },
      {
       "output_type": "stream",
       "stream": "stdout",
       "text": [
        "43%\r"
       ]
      },
      {
       "output_type": "stream",
       "stream": "stdout",
       "text": [
        "43%\r"
       ]
      },
      {
       "output_type": "stream",
       "stream": "stdout",
       "text": [
        "44%\r"
       ]
      },
      {
       "output_type": "stream",
       "stream": "stdout",
       "text": [
        "45%\r"
       ]
      },
      {
       "output_type": "stream",
       "stream": "stdout",
       "text": [
        "45%\r"
       ]
      },
      {
       "output_type": "stream",
       "stream": "stdout",
       "text": [
        "46%\r"
       ]
      },
      {
       "output_type": "stream",
       "stream": "stdout",
       "text": [
        "47%\r"
       ]
      },
      {
       "output_type": "stream",
       "stream": "stdout",
       "text": [
        "47%\r"
       ]
      },
      {
       "output_type": "stream",
       "stream": "stdout",
       "text": [
        "48%\r"
       ]
      },
      {
       "output_type": "stream",
       "stream": "stdout",
       "text": [
        "49%\r"
       ]
      },
      {
       "output_type": "stream",
       "stream": "stdout",
       "text": [
        "49%\r"
       ]
      },
      {
       "output_type": "stream",
       "stream": "stdout",
       "text": [
        "50%\r"
       ]
      },
      {
       "output_type": "stream",
       "stream": "stdout",
       "text": [
        "50%\r"
       ]
      },
      {
       "output_type": "stream",
       "stream": "stdout",
       "text": [
        "51%\r"
       ]
      },
      {
       "output_type": "stream",
       "stream": "stdout",
       "text": [
        "52%\r"
       ]
      },
      {
       "output_type": "stream",
       "stream": "stdout",
       "text": [
        "52%\r"
       ]
      },
      {
       "output_type": "stream",
       "stream": "stdout",
       "text": [
        "53%\r"
       ]
      },
      {
       "output_type": "stream",
       "stream": "stdout",
       "text": [
        "54%\r"
       ]
      },
      {
       "output_type": "stream",
       "stream": "stdout",
       "text": [
        "54%\r"
       ]
      },
      {
       "output_type": "stream",
       "stream": "stdout",
       "text": [
        "55%\r"
       ]
      },
      {
       "output_type": "stream",
       "stream": "stdout",
       "text": [
        "56%\r"
       ]
      },
      {
       "output_type": "stream",
       "stream": "stdout",
       "text": [
        "56%\r"
       ]
      },
      {
       "output_type": "stream",
       "stream": "stdout",
       "text": [
        "57%\r"
       ]
      },
      {
       "output_type": "stream",
       "stream": "stdout",
       "text": [
        "58%\r"
       ]
      },
      {
       "output_type": "stream",
       "stream": "stdout",
       "text": [
        "58%\r"
       ]
      },
      {
       "output_type": "stream",
       "stream": "stdout",
       "text": [
        "59%\r"
       ]
      },
      {
       "output_type": "stream",
       "stream": "stdout",
       "text": [
        "60%\r"
       ]
      },
      {
       "output_type": "stream",
       "stream": "stdout",
       "text": [
        "60%\r"
       ]
      },
      {
       "output_type": "stream",
       "stream": "stdout",
       "text": [
        "61%\r"
       ]
      },
      {
       "output_type": "stream",
       "stream": "stdout",
       "text": [
        "61%\r"
       ]
      },
      {
       "output_type": "stream",
       "stream": "stdout",
       "text": [
        "62%\r"
       ]
      },
      {
       "output_type": "stream",
       "stream": "stdout",
       "text": [
        "63%\r"
       ]
      },
      {
       "output_type": "stream",
       "stream": "stdout",
       "text": [
        "63%\r"
       ]
      },
      {
       "output_type": "stream",
       "stream": "stdout",
       "text": [
        "64%\r"
       ]
      },
      {
       "output_type": "stream",
       "stream": "stdout",
       "text": [
        "65%\r"
       ]
      },
      {
       "output_type": "stream",
       "stream": "stdout",
       "text": [
        "65%\r"
       ]
      },
      {
       "output_type": "stream",
       "stream": "stdout",
       "text": [
        "66%\r"
       ]
      },
      {
       "output_type": "stream",
       "stream": "stdout",
       "text": [
        "67%\r"
       ]
      },
      {
       "output_type": "stream",
       "stream": "stdout",
       "text": [
        "67%\r"
       ]
      },
      {
       "output_type": "stream",
       "stream": "stdout",
       "text": [
        "68%\r"
       ]
      },
      {
       "output_type": "stream",
       "stream": "stdout",
       "text": [
        "69%\r"
       ]
      },
      {
       "output_type": "stream",
       "stream": "stdout",
       "text": [
        "69%\r"
       ]
      },
      {
       "output_type": "stream",
       "stream": "stdout",
       "text": [
        "70%\r"
       ]
      },
      {
       "output_type": "stream",
       "stream": "stdout",
       "text": [
        "70%\r"
       ]
      },
      {
       "output_type": "stream",
       "stream": "stdout",
       "text": [
        "71%\r"
       ]
      },
      {
       "output_type": "stream",
       "stream": "stdout",
       "text": [
        "72%\r"
       ]
      },
      {
       "output_type": "stream",
       "stream": "stdout",
       "text": [
        "72%\r"
       ]
      },
      {
       "output_type": "stream",
       "stream": "stdout",
       "text": [
        "73%\r"
       ]
      },
      {
       "output_type": "stream",
       "stream": "stdout",
       "text": [
        "74%\r"
       ]
      },
      {
       "output_type": "stream",
       "stream": "stdout",
       "text": [
        "74%\r"
       ]
      },
      {
       "output_type": "stream",
       "stream": "stdout",
       "text": [
        "75%\r"
       ]
      },
      {
       "output_type": "stream",
       "stream": "stdout",
       "text": [
        "76%\r"
       ]
      },
      {
       "output_type": "stream",
       "stream": "stdout",
       "text": [
        "76%\r"
       ]
      },
      {
       "output_type": "stream",
       "stream": "stdout",
       "text": [
        "77%\r"
       ]
      },
      {
       "output_type": "stream",
       "stream": "stdout",
       "text": [
        "78%\r"
       ]
      },
      {
       "output_type": "stream",
       "stream": "stdout",
       "text": [
        "78%\r"
       ]
      },
      {
       "output_type": "stream",
       "stream": "stdout",
       "text": [
        "79%\r"
       ]
      },
      {
       "output_type": "stream",
       "stream": "stdout",
       "text": [
        "80%\r"
       ]
      },
      {
       "output_type": "stream",
       "stream": "stdout",
       "text": [
        "80%\r"
       ]
      },
      {
       "output_type": "stream",
       "stream": "stdout",
       "text": [
        "81%\r"
       ]
      },
      {
       "output_type": "stream",
       "stream": "stdout",
       "text": [
        "81%\r"
       ]
      },
      {
       "output_type": "stream",
       "stream": "stdout",
       "text": [
        "82%\r"
       ]
      },
      {
       "output_type": "stream",
       "stream": "stdout",
       "text": [
        "83%\r"
       ]
      },
      {
       "output_type": "stream",
       "stream": "stdout",
       "text": [
        "83%\r"
       ]
      },
      {
       "output_type": "stream",
       "stream": "stdout",
       "text": [
        "84%\r"
       ]
      },
      {
       "output_type": "stream",
       "stream": "stdout",
       "text": [
        "85%\r"
       ]
      },
      {
       "output_type": "stream",
       "stream": "stdout",
       "text": [
        "85%\r"
       ]
      },
      {
       "output_type": "stream",
       "stream": "stdout",
       "text": [
        "86%\r"
       ]
      },
      {
       "output_type": "stream",
       "stream": "stdout",
       "text": [
        "87%\r"
       ]
      },
      {
       "output_type": "stream",
       "stream": "stdout",
       "text": [
        "87%\r"
       ]
      },
      {
       "output_type": "stream",
       "stream": "stdout",
       "text": [
        "88%\r"
       ]
      },
      {
       "output_type": "stream",
       "stream": "stdout",
       "text": [
        "89%\r"
       ]
      },
      {
       "output_type": "stream",
       "stream": "stdout",
       "text": [
        "89%\r"
       ]
      },
      {
       "output_type": "stream",
       "stream": "stdout",
       "text": [
        "90%\r"
       ]
      },
      {
       "output_type": "stream",
       "stream": "stdout",
       "text": [
        "90%\r"
       ]
      },
      {
       "output_type": "stream",
       "stream": "stdout",
       "text": [
        "91%\r"
       ]
      },
      {
       "output_type": "stream",
       "stream": "stdout",
       "text": [
        "92%\r"
       ]
      },
      {
       "output_type": "stream",
       "stream": "stdout",
       "text": [
        "92%\r"
       ]
      },
      {
       "output_type": "stream",
       "stream": "stdout",
       "text": [
        "93%\r"
       ]
      },
      {
       "output_type": "stream",
       "stream": "stdout",
       "text": [
        "94%\r"
       ]
      },
      {
       "output_type": "stream",
       "stream": "stdout",
       "text": [
        "94%\r"
       ]
      },
      {
       "output_type": "stream",
       "stream": "stdout",
       "text": [
        "95%\r"
       ]
      },
      {
       "output_type": "stream",
       "stream": "stdout",
       "text": [
        "96%\r"
       ]
      },
      {
       "output_type": "stream",
       "stream": "stdout",
       "text": [
        "96%\r"
       ]
      },
      {
       "output_type": "stream",
       "stream": "stdout",
       "text": [
        "97%\r"
       ]
      },
      {
       "output_type": "stream",
       "stream": "stdout",
       "text": [
        "98%\r"
       ]
      },
      {
       "output_type": "stream",
       "stream": "stdout",
       "text": [
        "98%\r"
       ]
      },
      {
       "output_type": "stream",
       "stream": "stdout",
       "text": [
        "99%\r"
       ]
      },
      {
       "output_type": "stream",
       "stream": "stdout",
       "text": [
        "100%\r"
       ]
      }
     ],
     "prompt_number": 3
    },
    {
     "cell_type": "code",
     "collapsed": false,
     "input": [
      "loaded_model = pickle.load(open(MODEL_PATH, 'rb'))\n",
      "\n",
      "acc = loaded_model.score(test_data, test_label)\n",
      "predict_label = loaded_model.predict(test_data)\n",
      "overall_recall = recall_score(test_label, predict_label, average='weighted') #note try to run predict only once \n",
      "class_recall = recall_score(test_label, predict_label, average=None)\n",
      "\n",
      "print('Mean Acc: ', acc)\n",
      "print('Average Recall: ', overall_recall)\n",
      "print('Single Class Recall: ', class_recall)"
     ],
     "language": "python",
     "metadata": {},
     "outputs": [
      {
       "output_type": "stream",
       "stream": "stderr",
       "text": [
        "[Parallel(n_jobs=5)]: Using backend ThreadingBackend with 5 concurrent workers.\n"
       ]
      },
      {
       "output_type": "stream",
       "stream": "stderr",
       "text": [
        "[Parallel(n_jobs=5)]: Done   3 tasks      | elapsed:   16.7s\n"
       ]
      },
      {
       "output_type": "stream",
       "stream": "stderr",
       "text": [
        "[Parallel(n_jobs=5)]: Done   8 tasks      | elapsed:   29.3s\n"
       ]
      },
      {
       "output_type": "stream",
       "stream": "stderr",
       "text": [
        "[Parallel(n_jobs=5)]: Done  15 tasks      | elapsed:   45.9s\n"
       ]
      },
      {
       "output_type": "stream",
       "stream": "stderr",
       "text": [
        "[Parallel(n_jobs=5)]: Done  22 tasks      | elapsed:  1.0min\n"
       ]
      },
      {
       "output_type": "stream",
       "stream": "stderr",
       "text": [
        "[Parallel(n_jobs=5)]: Done  31 tasks      | elapsed:  1.4min\n"
       ]
      },
      {
       "output_type": "stream",
       "stream": "stderr",
       "text": [
        "[Parallel(n_jobs=5)]: Done  40 tasks      | elapsed:  1.8min\n"
       ]
      },
      {
       "output_type": "stream",
       "stream": "stderr",
       "text": [
        "[Parallel(n_jobs=5)]: Done  51 tasks      | elapsed:  2.2min\n"
       ]
      },
      {
       "output_type": "stream",
       "stream": "stderr",
       "text": [
        "[Parallel(n_jobs=5)]: Done  62 tasks      | elapsed:  2.6min\n"
       ]
      },
      {
       "output_type": "stream",
       "stream": "stderr",
       "text": [
        "[Parallel(n_jobs=5)]: Done  75 tasks      | elapsed:  3.2min\n"
       ]
      },
      {
       "output_type": "stream",
       "stream": "stderr",
       "text": [
        "[Parallel(n_jobs=5)]: Done  88 tasks      | elapsed:  3.7min\n"
       ]
      },
      {
       "output_type": "stream",
       "stream": "stderr",
       "text": [
        "[Parallel(n_jobs=5)]: Done 100 out of 100 | elapsed:  4.2min finished\n"
       ]
      },
      {
       "output_type": "stream",
       "stream": "stderr",
       "text": [
        "[Parallel(n_jobs=5)]: Using backend ThreadingBackend with 5 concurrent workers.\n"
       ]
      },
      {
       "output_type": "stream",
       "stream": "stderr",
       "text": [
        "[Parallel(n_jobs=5)]: Done   3 tasks      | elapsed:   17.1s\n"
       ]
      },
      {
       "output_type": "stream",
       "stream": "stderr",
       "text": [
        "[Parallel(n_jobs=5)]: Done   8 tasks      | elapsed:   29.6s\n"
       ]
      },
      {
       "output_type": "stream",
       "stream": "stderr",
       "text": [
        "[Parallel(n_jobs=5)]: Done  15 tasks      | elapsed:   45.9s\n"
       ]
      },
      {
       "output_type": "stream",
       "stream": "stderr",
       "text": [
        "[Parallel(n_jobs=5)]: Done  22 tasks      | elapsed:  1.1min\n"
       ]
      },
      {
       "output_type": "stream",
       "stream": "stderr",
       "text": [
        "[Parallel(n_jobs=5)]: Done  31 tasks      | elapsed:  1.4min\n"
       ]
      },
      {
       "output_type": "stream",
       "stream": "stderr",
       "text": [
        "[Parallel(n_jobs=5)]: Done  40 tasks      | elapsed:  1.8min\n"
       ]
      },
      {
       "output_type": "stream",
       "stream": "stderr",
       "text": [
        "[Parallel(n_jobs=5)]: Done  51 tasks      | elapsed:  2.2min\n"
       ]
      },
      {
       "output_type": "stream",
       "stream": "stderr",
       "text": [
        "[Parallel(n_jobs=5)]: Done  62 tasks      | elapsed:  2.7min\n"
       ]
      },
      {
       "output_type": "stream",
       "stream": "stderr",
       "text": [
        "[Parallel(n_jobs=5)]: Done  75 tasks      | elapsed:  3.3min\n"
       ]
      },
      {
       "output_type": "stream",
       "stream": "stderr",
       "text": [
        "[Parallel(n_jobs=5)]: Done  88 tasks      | elapsed:  3.8min\n"
       ]
      },
      {
       "output_type": "stream",
       "stream": "stderr",
       "text": [
        "[Parallel(n_jobs=5)]: Done 100 out of 100 | elapsed:  4.3min finished\n"
       ]
      },
      {
       "output_type": "stream",
       "stream": "stdout",
       "text": [
        "Mean Acc:  0.9700282020288455\n",
        "Average Recall:  0.9700282020288455\n",
        "Single Class Recall:  [9.99861655e-01 1.38855531e-02 2.22373949e-03 7.33146641e-04\n",
        " 0.00000000e+00 0.00000000e+00 0.00000000e+00 0.00000000e+00\n",
        " 0.00000000e+00 0.00000000e+00 0.00000000e+00 0.00000000e+00\n",
        " 0.00000000e+00 0.00000000e+00 0.00000000e+00 0.00000000e+00\n",
        " 0.00000000e+00]\n"
       ]
      }
     ],
     "prompt_number": 4
    },
    {
     "cell_type": "code",
     "collapsed": false,
     "input": [],
     "language": "python",
     "metadata": {},
     "outputs": [],
     "prompt_number": 5
    }
   ],
   "metadata": {}
  }
 ]
}
