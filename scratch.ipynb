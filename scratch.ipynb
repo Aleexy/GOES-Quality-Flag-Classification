{
 "cells": [
  {
   "cell_type": "code",
   "execution_count": 1,
   "metadata": {
    "collapsed": false
   },
   "outputs": [
    {
     "name": "stderr",
     "output_type": "stream",
     "text": [
      "/opt/home/adomakor412/.conda/envs/NOAA/lib/python3.7/site-packages/xarray/core/merge.py:17: FutureWarning: The Panel class is removed from pandas. Accessing it from the top-level namespace will also be removed in the next version\n",
      "  PANDAS_TYPES = (pd.Series, pd.DataFrame, pd.Panel)\n"
     ]
    }
   ],
   "source": [
    "import numpy as np #ref\n",
    "import os\n",
    "from os import path as op\n",
    "import string\n",
    "import re\n",
    "from subprocess import Popen\n",
    "import xarray as xr #ref\n",
    "import metpy #ref\n",
    "import matplotlib.pyplot as plt #ref\n",
    "import cartopy.crs as ccrs #ref\n",
    "import cartopy.feature as cfeature\n",
    "from pyresample import image, geometry #ref\n",
    "import seaborn as sns #ref\n",
    "import netCDF4\n",
    "sns.set(style=\"darkgrid\")\n",
    "%matplotlib inline\n",
    "\n",
    "#sys.path.append('')"
   ]
  },
  {
   "cell_type": "code",
   "execution_count": 3,
   "metadata": {
    "collapsed": false
   },
   "outputs": [],
   "source": [
    "file = '../../goesdata/DQF/221/OR_ABI-L1b-RadF-M6C07_G16_s20192210000548_e20192210010268_c20192210010328.npy'\n",
    "myFile = np.load(file)"
   ]
  },
  {
   "cell_type": "code",
   "execution_count": 4,
   "metadata": {
    "collapsed": false
   },
   "outputs": [
    {
     "name": "stdout",
     "output_type": "stream",
     "text": [
      "[[0.7789913  0.7680408  0.7226746  ... 0.50835854 0.56780386 0.62881356]\n",
      " [0.7789913  0.7226746  0.70233804 ... 0.53808117 0.5990909  0.6460214 ]\n",
      " [0.7508329  0.70233804 0.70233804 ... 0.5803187  0.64445704 0.65540755]\n",
      " ...\n",
      " [0.07503328 0.06564717 0.06564717 ... 0.8665949  0.8634662  0.8587732 ]\n",
      " [0.07816197 0.06095411 0.06564717 ... 0.8055852  0.7742982  0.79776347]\n",
      " [0.07816197 0.06877588 0.06095411 ... 0.68982327 0.70546675 0.7508329 ]]\n"
     ]
    }
   ],
   "source": [
    "print(myFile)"
   ]
  },
  {
   "cell_type": "code",
   "execution_count": null,
   "metadata": {
    "collapsed": true
   },
   "outputs": [],
   "source": []
  }
 ],
 "metadata": {
  "kernelspec": {
   "display_name": "Python 3",
   "language": "python",
   "name": "python3"
  },
  "language_info": {
   "codemirror_mode": {
    "name": "ipython",
    "version": 3
   },
   "file_extension": ".py",
   "mimetype": "text/x-python",
   "name": "python",
   "nbconvert_exporter": "python",
   "pygments_lexer": "ipython3",
   "version": "3.7.4"
  }
 },
 "nbformat": 4,
 "nbformat_minor": 0
}
