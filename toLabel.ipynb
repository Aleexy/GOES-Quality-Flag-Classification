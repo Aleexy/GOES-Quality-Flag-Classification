{
 "cells": [
  {
   "cell_type": "code",
   "execution_count": 4,
   "metadata": {},
   "outputs": [],
   "source": [
    "import numpy as np\n",
    "import os"
   ]
  },
  {
   "cell_type": "code",
   "execution_count": 65,
   "metadata": {},
   "outputs": [],
   "source": [
    "mainpath = '/Users/aleex/DSE/Machine Learning/Project/toyData/'\n",
    "\n",
    "outpath = '/Users/aleex/DSE/Machine Learning/Project/label/'\n",
    "if not os.path.exists(outpath):\n",
    "    os.makedirs(outpath)\n",
    "    \n"
   ]
  },
  {
   "cell_type": "code",
   "execution_count": 15,
   "metadata": {},
   "outputs": [
    {
     "name": "stdout",
     "output_type": "stream",
     "text": [
      "['/Users/aleex/DSE/Machine Learning/Project/toyData/OR_ABI-L1b-RadF-M6C07_G16_s20192210000548_e20192210010268_c20192210010328.npy', '/Users/aleex/DSE/Machine Learning/Project/toyData/OR_ABI-L1b-RadF-M6C07_G16_s20192220000555_e20192220010275_c20192220010333.npy']\n"
     ]
    }
   ],
   "source": [
    "#To be modified on both Goes16 and 17\n",
    "filenames = []\n",
    "for root, dirs, files in os.walk(mainpath):\n",
    "    for file in files:\n",
    "        if file.endswith(\".npy\"):\n",
    "             filenames.append(os.path.join(root, file))\n",
    "print(filenames)"
   ]
  },
  {
   "cell_type": "code",
   "execution_count": 64,
   "metadata": {},
   "outputs": [
    {
     "name": "stdout",
     "output_type": "stream",
     "text": [
      "[[0.00312865 0.01720786 0.05005926 ... 0.20492995 0.1110689  0.02033657]\n",
      " [0.00312865 0.05005926 0.00312871 ... 0.16582125 0.057881   0.00938612]\n",
      " [0.04693049 0.00312871 0.00312871 ... 0.1329698  0.0078218  0.02502966]\n",
      " ...\n",
      " [0.7712251  0.77904683 0.77904683 ... 0.18302906 0.1689499  0.14861333]\n",
      " [0.7524529  0.7978191  0.77904683 ... 0.12514806 0.0829106  0.07978189]\n",
      " [0.7524529  0.7962547  0.7978191  ... 0.0250296  0.04223746 0.01720786]]\n",
      "0.00023241622509243654\n",
      "[[  14   75  216 ...  882  478   88]\n",
      " [  14  216   14 ...  714  250   41]\n",
      " [ 202   14   14 ...  573   34  108]\n",
      " ...\n",
      " [3319 3352 3352 ...  788  727  640]\n",
      " [3238 3433 3352 ...  539  357  344]\n",
      " [3238 3426 3433 ...  108  182   75]]\n"
     ]
    }
   ],
   "source": [
    "#for file in filenames:\n",
    "#THIS FUNCTION ONLY RUNS ON THE TWO TOY DATA, PIPELINE NEEDS TO BE MODIFIED FOR THE WHOLE COLLECTION \n",
    "goes1 = np.load(filenames[0])\n",
    "goes2 = np.load(filenames[1])\n",
    "\n",
    "n1 = len(goes1)*len(goes1[0])\n",
    "n2 = len(goes2)*len(goes2[0])\n",
    "\n",
    "std1 = np.std(goes1)\n",
    "std2 = np.std(goes2)\n",
    "\n",
    "joint_std = np.sqrt(std1**2/n1 + std2**2/n2)\n",
    "delta = abs(goes1 - goes2)\n",
    "label = delta//joint_std\n",
    "label = label.astype(int) + 1\n",
    "print(delta)\n",
    "print(joint_std)\n",
    "print(label)"
   ]
  },
  {
   "cell_type": "code",
   "execution_count": 68,
   "metadata": {},
   "outputs": [],
   "source": [
    "out = outpath + 'label1.txt'\n",
    "np.savetxt(out, label, fmt='%10.f')"
   ]
  },
  {
   "cell_type": "code",
   "execution_count": null,
   "metadata": {},
   "outputs": [],
   "source": []
  },
  {
   "cell_type": "code",
   "execution_count": null,
   "metadata": {},
   "outputs": [],
   "source": []
  }
 ],
 "metadata": {
  "kernelspec": {
   "display_name": "Python 3",
   "language": "python",
   "name": "python3"
  },
  "language_info": {
   "codemirror_mode": {
    "name": "ipython",
    "version": 3
   },
   "file_extension": ".py",
   "mimetype": "text/x-python",
   "name": "python",
   "nbconvert_exporter": "python",
   "pygments_lexer": "ipython3",
   "version": "3.7.4"
  }
 },
 "nbformat": 4,
 "nbformat_minor": 2
}
