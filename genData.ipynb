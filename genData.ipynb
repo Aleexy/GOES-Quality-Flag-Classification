{
 "cells": [
  {
   "cell_type": "code",
   "execution_count": 3,
   "metadata": {
    "collapsed": true
   },
   "outputs": [],
   "source": [
    "import numpy as np\n",
    "import os\n",
    "import os.path as op\n",
    "import h5py\n",
    "import shutil\n",
    "import requests\n",
    "import statistics"
   ]
  },
  {
   "cell_type": "code",
   "execution_count": 7,
   "metadata": {
    "collapsed": true
   },
   "outputs": [],
   "source": [
    "outpath = '/sharedData2/scratch/label/'"
   ]
  },
  {
   "cell_type": "code",
   "execution_count": 8,
   "metadata": {
    "collapsed": true
   },
   "outputs": [],
   "source": [
    "def createData(outpath):\n",
    "    # PATH TO STORE THE TRAINING SAMPLES\n",
    "    #outpath = '/Users/aleex/DSE/Machine Learning/Project/label/'\n",
    "    if not os.path.exists(outpath):\n",
    "        os.makedirs(outpath)\n",
    "\n",
    "    def genLabel(goes16, goes17):\n",
    "        n1 = len(goes16)*len(goes16[0])\n",
    "        n2 = len(goes17)*len(goes17[0])\n",
    "\n",
    "        std1 = np.std(goes16)\n",
    "        std2 = np.std(goes17)\n",
    "\n",
    "        diff = goes16 - goes17\n",
    "        diff_std = np.std(diff)\n",
    "\n",
    "        delta = abs(goes16 - goes17)\n",
    "        label = delta//diff_std\n",
    "        label = label.astype(int)\n",
    "\n",
    "        return label\n",
    "\n",
    "    def writeH5(data, label, uniTime):\n",
    "        coords = np.array(data).astype(np.float)\n",
    "        shape = coords.shape\n",
    "        hdf5_path = outpath + uniTime + '.h5'\n",
    "        with h5py.File(hdf5_path, mode='w') as f:\n",
    "            d = f.create_dataset('/data', data = coords)\n",
    "            l = f.create_dataset('/label', data = label)\n",
    "\n",
    "    #ROOT URL OF THE NPY FILES\n",
    "    rootURL = \"https://gitlab.com/adomakor412/goesdata/-/raw/master/spring_npy/\"\n",
    "    for idx in range(98, 109):    \n",
    "        for h in range(0, 24):\n",
    "            for m in range(0, 6):\n",
    "                data = np.empty((401,1001,0), float)\n",
    "                label = np.empty((401,1001,0), int)\n",
    "                for band in range(7, 11):\n",
    "                    with open('log2', 'a') as log:\n",
    "                        timeID = f\"s2019{str(idx).zfill(3)}{str(h).zfill(2)}{str(m*10).zfill(2)}\"\n",
    "\n",
    "                        goes16_url = rootURL + f\"{str(idx).zfill(3)}/OR_ABI-L1b-RadF-M6C{str(band).zfill(2)}_G16_{timeID}\"\n",
    "                        goes17_url = rootURL + f\"{str(idx).zfill(3)}/OR_ABI-L1b-RadF-M6C{str(band).zfill(2)}_G17_{timeID}\"\n",
    "                        \n",
    "                        try:\n",
    "                            response16 = requests.get(goes16_url, stream=True)\n",
    "                            response17 = requests.get(goes17_url, stream=True)\n",
    "\n",
    "                            with open('temp16.npy', 'wb') as temp16:\n",
    "                                shutil.copyfileobj(response16.raw, temp16)\n",
    "                            with open('temp17.npy', 'wb') as temp17:\n",
    "                                shutil.copyfileobj(response17.raw, temp17)               \n",
    "\n",
    "                            data16 = np.load('temp16.npy').reshape((401, 1001, 1))\n",
    "                            data17 = np.load('temp17.npy').reshape((401, 1001, 1))\n",
    "                            \n",
    "                            labels = genLabel(data16, data17)\n",
    "                            \n",
    "                            data = np.append(data, data17, axis = 2)\n",
    "                            #print(data)\n",
    "                            \n",
    "                            label = np.append(label, labels, axis = 2)\n",
    "                            \n",
    "                            #vote = np.round(np.median(label, axis=2))\n",
    "                            #writeH5(stack, vote, timeID)\n",
    "\n",
    "                        except ValueError as e:\n",
    "                            print(\"url doesn't exist for \" + str(goes16_url))\n",
    "                            print(e)\n",
    "                            print('\\n')\n",
    "                            print(str(goes16_url), file=log)\n",
    "                            print('\\n')\n",
    "                            print(e, file=log)\n",
    "                            break\n",
    "\n",
    "                data = data.reshape((401*1001, -1))\n",
    "                vote = np.round(np.median(label, axis=2)).astype('int')                \n",
    "                vote = vote.reshape((-1))\n",
    "                writeH5(data, vote, timeID)"
   ]
  },
  {
   "cell_type": "code",
   "execution_count": null,
   "metadata": {
    "collapsed": false
   },
   "outputs": [],
   "source": [
    "createData(outpath)"
   ]
  },
  {
   "cell_type": "code",
   "execution_count": null,
   "metadata": {
    "collapsed": true
   },
   "outputs": [],
   "source": []
  }
 ],
 "metadata": {
  "kernelspec": {
   "display_name": "Python 3",
   "language": "python",
   "name": "python3"
  },
  "language_info": {
   "codemirror_mode": {
    "name": "ipython",
    "version": 3
   },
   "file_extension": ".py",
   "mimetype": "text/x-python",
   "name": "python",
   "nbconvert_exporter": "python",
   "pygments_lexer": "ipython3",
   "version": "3.7.4"
  }
 },
 "nbformat": 4,
 "nbformat_minor": 2
}
