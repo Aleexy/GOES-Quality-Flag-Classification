{
 "cells": [
  {
   "cell_type": "code",
   "execution_count": 1,
   "metadata": {
    "collapsed": true
   },
   "outputs": [],
   "source": [
    "import string\n",
    "import re\n",
    "import os\n",
    "import os.path as op\n",
    "from subprocess import Popen\n"
   ]
  },
  {
   "cell_type": "code",
   "execution_count": 2,
   "metadata": {
    "collapsed": true
   },
   "outputs": [],
   "source": [
    "# PATH_IN = '../GOEScode/goesData/fall_npy'\n",
    "# PATH_OUT = 'fall_npy'\n",
    "PATH_IN = '/sharedData2/scratch/fall_npy'\n",
    "PATH_OUT = 'fall_npy'"
   ]
  },
  {
   "cell_type": "code",
   "execution_count": 3,
   "metadata": {
    "collapsed": true
   },
   "outputs": [],
   "source": [
    "# s = 'OR_ABI-L1b-RadF-M6C07_G16_s20192210000548_e20192210010268_c20192210010328.npy'"
   ]
  },
  {
   "cell_type": "code",
   "execution_count": 4,
   "metadata": {
    "collapsed": false
   },
   "outputs": [],
   "source": [
    "# year = s[27:31]\n",
    "# day = s[31:34]\n",
    "#print(year, day)"
   ]
  },
  {
   "cell_type": "code",
   "execution_count": 5,
   "metadata": {
    "collapsed": true
   },
   "outputs": [],
   "source": [
    "dirs = os.listdir( PATH_IN )"
   ]
  },
  {
   "cell_type": "code",
   "execution_count": 7,
   "metadata": {
    "collapsed": false
   },
   "outputs": [],
   "source": [
    "for file in dirs:\n",
    "    #year = file[27:31]\n",
    "    day = file[31:34]\n",
    "    \n",
    "    inFile = op.join(PATH_IN,file)\n",
    "    \n",
    "    # folder = op.join(PATH_IN,year)\n",
    "    # folder = op.join(folder,day)\n",
    "    \n",
    "    folder = op.join(PATH_OUT,day)\n",
    "    \n",
    "    outFile = op.join(folder, file)\n",
    "    \n",
    "    if op.exists(outFile):\n",
    "        continue\n",
    "    \n",
    "    if op.exists(folder):\n",
    "        pass\n",
    "    else:\n",
    "        cmd = [ \" \".join(['mkdir',folder]) ]\n",
    "        pid = Popen(cmd, shell=True)\n",
    "        pid.communicate()\n",
    "        \n",
    "    cmd = [ \" \".join(['mv',inFile,outFile]) ]\n",
    "    pid = Popen(cmd, shell=True)\n",
    "    pid.communicate()\n",
    "    "
   ]
  },
  {
   "cell_type": "code",
   "execution_count": null,
   "metadata": {
    "collapsed": true
   },
   "outputs": [],
   "source": []
  }
 ],
 "metadata": {
  "kernelspec": {
   "display_name": "Python 3",
   "language": "python",
   "name": "python3"
  },
  "language_info": {
   "codemirror_mode": {
    "name": "ipython",
    "version": 3
   },
   "file_extension": ".py",
   "mimetype": "text/x-python",
   "name": "python",
   "nbconvert_exporter": "python",
   "pygments_lexer": "ipython3",
   "version": "3.7.4"
  }
 },
 "nbformat": 4,
 "nbformat_minor": 0
}
